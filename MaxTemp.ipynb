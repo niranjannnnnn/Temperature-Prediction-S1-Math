{
  "nbformat": 4,
  "nbformat_minor": 0,
  "metadata": {
    "colab": {
      "name": "MaxTemp.ipynb",
      "provenance": [],
      "collapsed_sections": [],
      "include_colab_link": true
    },
    "kernelspec": {
      "name": "python3",
      "display_name": "Python 3"
    },
    "language_info": {
      "name": "python"
    }
  },
  "cells": [
    {
      "cell_type": "markdown",
      "metadata": {
        "id": "view-in-github",
        "colab_type": "text"
      },
      "source": [
        "<a href=\"https://colab.research.google.com/github/Mindless-Magnet/TemperaturePrediction-S1-Math/blob/main/MaxTemp.ipynb\" target=\"_parent\"><img src=\"https://colab.research.google.com/assets/colab-badge.svg\" alt=\"Open In Colab\"/></a>"
      ]
    },
    {
      "cell_type": "code",
      "execution_count": 1,
      "metadata": {
        "id": "wX9CZX0qCswR"
      },
      "outputs": [],
      "source": [
        "#install kaggle\n",
        "!pip install -q kaggle"
      ]
    },
    {
      "cell_type": "code",
      "source": [
        "from google.colab import files\n",
        "files.upload()"
      ],
      "metadata": {
        "colab": {
          "resources": {
            "http://localhost:8080/nbextensions/google.colab/files.js": {
              "data": "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",
              "ok": true,
              "headers": [
                [
                  "content-type",
                  "application/javascript"
                ]
              ],
              "status": 200,
              "status_text": ""
            }
          },
          "base_uri": "https://localhost:8080/",
          "height": 91
        },
        "id": "T9Fh-oQhDefD",
        "outputId": "3b2244e9-f647-4bfe-deac-b99675924f40"
      },
      "execution_count": null,
      "outputs": [
        {
          "output_type": "display_data",
          "data": {
            "text/html": [
              "\n",
              "     <input type=\"file\" id=\"files-56aaeb2a-da87-43c7-8dff-da4ac0f1f855\" name=\"files[]\" multiple disabled\n",
              "        style=\"border:none\" />\n",
              "     <output id=\"result-56aaeb2a-da87-43c7-8dff-da4ac0f1f855\">\n",
              "      Upload widget is only available when the cell has been executed in the\n",
              "      current browser session. Please rerun this cell to enable.\n",
              "      </output>\n",
              "      <script src=\"/nbextensions/google.colab/files.js\"></script> "
            ],
            "text/plain": [
              "<IPython.core.display.HTML object>"
            ]
          },
          "metadata": {}
        },
        {
          "output_type": "stream",
          "name": "stdout",
          "text": [
            "Saving kaggle.json to kaggle.json\n"
          ]
        },
        {
          "output_type": "execute_result",
          "data": {
            "text/plain": [
              "{'kaggle.json': b'{\"username\":\"akshay142003\",\"key\":\"251516f8a3d14c1c30a1d82e459a1aee\"}'}"
            ]
          },
          "metadata": {},
          "execution_count": 3
        }
      ]
    },
    {
      "cell_type": "code",
      "source": [
        "#create a kaggle folder\n",
        "! mkdir ~/.kaggle"
      ],
      "metadata": {
        "id": "I5R5wZXbEGdy"
      },
      "execution_count": null,
      "outputs": []
    },
    {
      "cell_type": "code",
      "source": [
        "#copy the kaggle.json file to created folder\n",
        "! cp kaggle.json ~/.kaggle/"
      ],
      "metadata": {
        "id": "iE66RgreEgM1"
      },
      "execution_count": null,
      "outputs": []
    },
    {
      "cell_type": "code",
      "source": [
        "#permission for json to act\n",
        "! chmod 600 ~/.kaggle/kaggle.json"
      ],
      "metadata": {
        "id": "CqPM5k2DFIWq"
      },
      "execution_count": null,
      "outputs": []
    },
    {
      "cell_type": "code",
      "source": [
        "#to list all datasets in kaggle\n",
        "! kaggle datasets list"
      ],
      "metadata": {
        "colab": {
          "base_uri": "https://localhost:8080/"
        },
        "id": "rom28tq7Fb_-",
        "outputId": "e28a33e6-74ff-42b8-d34e-fbc3c90d4052"
      },
      "execution_count": null,
      "outputs": [
        {
          "output_type": "stream",
          "name": "stdout",
          "text": [
            "Warning: Looks like you're using an outdated API Version, please consider updating (server 1.5.12 / client 1.5.4)\n",
            "ref                                                         title                                               size  lastUpdated          downloadCount  \n",
            "----------------------------------------------------------  -------------------------------------------------  -----  -------------------  -------------  \n",
            "yamqwe/omicron-covid19-variant-daily-cases                  Omicron daily cases by country (COVID-19 variant)  432KB  2022-01-24 01:15:40           7380  \n",
            "nkitgupta/jigsaw-regression-based-data                      Jigsaw Regression Based Data                         3GB  2022-01-10 06:29:59            445  \n",
            "prasertk/netflix-subscription-price-in-different-countries  Netflix subscription fee in different countries      3KB  2022-01-15 07:06:09            687  \n",
            "yasserh/song-popularity-dataset                             Song Popularity Dataset                            805KB  2022-01-07 13:18:43           1044  \n",
            "vishalmane10/anime-dataset-2022                             Anime DataSet 2022                                   5MB  2022-01-16 13:56:16            361  \n",
            "yasserh/wine-quality-dataset                                Wine Quality Dataset                                21KB  2022-01-15 19:15:11            643  \n",
            "carlmcbrideellis/gdp-20152019-finland-norway-and-sweden     GDP 2015-2019: Finland, Norway, and Sweden          365B  2022-01-05 07:48:49            390  \n",
            "yasserh/uber-fares-dataset                                  Uber Fares Dataset                                   7MB  2022-01-01 15:54:14            876  \n",
            "dansbecker/melbourne-housing-snapshot                       Melbourne Housing Snapshot                         451KB  2018-06-05 12:52:24          79207  \n",
            "iamsouravbanerjee/analytics-industry-salaries-2022-india    Data Professionals Salary - 2022                    56KB  2022-01-20 13:24:41            694  \n",
            "fedesoriano/stellar-classification-dataset-sdss17           Stellar Classification Dataset - SDSS17              7MB  2022-01-15 17:11:30            197  \n",
            "datasnaek/youtube-new                                       Trending YouTube Video Statistics                  201MB  2019-06-03 00:56:47         164080  \n",
            "zynicide/wine-reviews                                       Wine Reviews                                        51MB  2017-11-27 17:08:04         153010  \n",
            "residentmario/ramen-ratings                                 Ramen Ratings                                       40KB  2018-01-11 16:04:39          32115  \n",
            "datasnaek/chess                                             Chess Game Dataset (Lichess)                         3MB  2017-09-04 03:09:09          27188  \n",
            "jpmiller/publicassistance                                   US Public Food Assistance                          703KB  2020-08-21 16:51:18          15374  \n",
            "rtatman/188-million-us-wildfires                            1.88 Million US Wildfires                          168MB  2020-05-12 21:03:49          18646  \n",
            "nasa/kepler-exoplanet-search-results                        Kepler Exoplanet Search Results                      1MB  2017-10-10 18:26:59           9787  \n",
            "residentmario/things-on-reddit                              Things on Reddit                                    16MB  2017-10-26 14:10:15           8019  \n",
            "nolanbconaway/pitchfork-data                                18,393 Pitchfork Reviews                            33MB  2017-01-13 04:18:10           9921  \n"
          ]
        }
      ]
    },
    {
      "cell_type": "code",
      "source": [
        "!kaggle datasets download -d smid80/weatherww2"
      ],
      "metadata": {
        "colab": {
          "base_uri": "https://localhost:8080/"
        },
        "id": "apVUvYNdH0qX",
        "outputId": "7a81a953-cb2a-4a1d-c58b-853b6d4fd0f5"
      },
      "execution_count": null,
      "outputs": [
        {
          "output_type": "stream",
          "name": "stdout",
          "text": [
            "Downloading weatherww2.zip to /content\n",
            "\r  0% 0.00/1.65M [00:00<?, ?B/s]\n",
            "\r100% 1.65M/1.65M [00:00<00:00, 53.9MB/s]\n"
          ]
        }
      ]
    },
    {
      "cell_type": "code",
      "source": [
        "!unzip weatherww2.zip"
      ],
      "metadata": {
        "colab": {
          "base_uri": "https://localhost:8080/"
        },
        "id": "LkFlGS6cIoz5",
        "outputId": "fc91f172-316d-4c56-b570-f6efce8e4e7c"
      },
      "execution_count": null,
      "outputs": [
        {
          "output_type": "stream",
          "name": "stdout",
          "text": [
            "Archive:  weatherww2.zip\n",
            "  inflating: Summary of Weather.csv  \n",
            "  inflating: Weather Station Locations.csv  \n"
          ]
        }
      ]
    },
    {
      "cell_type": "code",
      "source": [
        "# Imports\n",
        "import torch\n",
        "\n",
        "import torchvision\n",
        "import torch.nn as nn\n",
        "import pandas as pd\n",
        "import seaborn as sns\n",
        "import matplotlib.pyplot as plt\n",
        "import torch.nn.functional as F\n",
        "from torchvision.datasets.utils import download_url\n",
        "from torch.utils.data import DataLoader, TensorDataset, random_split"
      ],
      "metadata": {
        "id": "QQnwb8HUP4Zp"
      },
      "execution_count": null,
      "outputs": []
    },
    {
      "cell_type": "code",
      "source": [
        "# Other constants\n",
        "#DATASET_URL = \"https://raw.githubusercontent.com/selva86/datasets/master/BostonHousing.csv\"\n",
        "DATA_FILENAME = \"Summary of Weather.csv\"\n",
        "TARGET_COLUMN = 'MaxTemp'\n",
        "dataframe = pd.read_csv(DATA_FILENAME)\n"
      ],
      "metadata": {
        "colab": {
          "base_uri": "https://localhost:8080/"
        },
        "id": "CskqX_IRQKof",
        "outputId": "557dbcaa-c3df-4227-f9ad-7fdbf60b75ec"
      },
      "execution_count": null,
      "outputs": [
        {
          "output_type": "stream",
          "name": "stderr",
          "text": [
            "/usr/local/lib/python3.7/dist-packages/IPython/core/interactiveshell.py:2718: DtypeWarning: Columns (7,8,18,25) have mixed types.Specify dtype option on import or set low_memory=False.\n",
            "  interactivity=interactivity, compiler=compiler, result=result)\n"
          ]
        }
      ]
    },
    {
      "cell_type": "code",
      "source": [
        "dataframe.drop([\"Date\"], axis = 1, inplace = True) \n",
        "dataframe.drop([\"PRCP\"], axis = 1, inplace = True) \n",
        "dataframe.drop([\"STA\"], axis = 1, inplace = True)\n",
        "dataframe.drop([\"WindGustSpd\"], axis = 1, inplace = True)\n",
        "dataframe.drop([\"YR\"], axis = 1, inplace = True)\n",
        "dataframe.drop([\"MO\"], axis = 1, inplace = True)\n",
        "dataframe.drop([\"DA\"], axis = 1, inplace = True)\n",
        "dataframe.drop([\"DR\"], axis = 1, inplace = True)\n",
        "dataframe.drop([\"SPD\"], axis = 1, inplace = True)\n",
        "\n",
        "dataframe.drop([\"SND\"], axis = 1, inplace = True)\n",
        "dataframe.drop([\"FT\"], axis = 1, inplace = True)\n",
        "dataframe.drop([\"FTI\"], axis = 1, inplace = True)\n",
        "dataframe.drop([\"FB\"], axis = 1, inplace = True)\n",
        "dataframe.drop([\"ITH\"], axis = 1, inplace = True)\n",
        "dataframe.drop([\"TSHDSBRSGF\"], axis = 1, inplace = True)\n",
        "dataframe.drop([\"PGT\"], axis = 1, inplace = True)\n",
        "dataframe.drop([\"SD3\"], axis = 1, inplace = True)\n",
        "dataframe.drop([\"RHX\"], axis = 1, inplace = True)\n",
        "dataframe.drop([\"RHN\"], axis = 1, inplace = True)\n",
        "dataframe.drop([\"RVG\"], axis = 1, inplace = True)\n",
        "dataframe.drop([\"WTE\"], axis = 1, inplace = True)\n",
        "dataframe.drop([\"MAX\"], axis = 1, inplace = True)\n",
        "dataframe.drop([\"MIN\"], axis = 1, inplace = True)\n",
        "dataframe.drop([\"MEA\"], axis = 1, inplace = True)\n",
        "dataframe.drop([\"SNF\"], axis = 1, inplace = True)\n",
        "\n",
        "for col in dataframe.columns: \n",
        "    if (dataframe[col].dtype == object):\n",
        "        dataframe[col] = dataframe[col].replace(['T','#VALUE!'],0)\n",
        "        dataframe[col] = dataframe[col].replace(['1   1','1   1 1  1','1 0','1 0  1','1 1  1','11    1','11 1','1     0','1    1','1   1 1','1     1','1 1','1     1  1','1  1','1        1','1        1'],1)\n",
        "        dataframe[col] = dataframe[col].fillna(0)\n",
        "        dataframe[col] = dataframe[col].astype('float32')\n",
        "\n",
        "dataframe.head()"
      ],
      "metadata": {
        "colab": {
          "base_uri": "https://localhost:8080/",
          "height": 206
        },
        "id": "tlYsvvQ8SFAo",
        "outputId": "91c90b93-1d4b-4af3-cb84-8aa0e660ce51"
      },
      "execution_count": null,
      "outputs": [
        {
          "output_type": "execute_result",
          "data": {
            "text/html": [
              "\n",
              "  <div id=\"df-a1e8291f-19b1-4c29-a99b-a98dbfc83055\">\n",
              "    <div class=\"colab-df-container\">\n",
              "      <div>\n",
              "<style scoped>\n",
              "    .dataframe tbody tr th:only-of-type {\n",
              "        vertical-align: middle;\n",
              "    }\n",
              "\n",
              "    .dataframe tbody tr th {\n",
              "        vertical-align: top;\n",
              "    }\n",
              "\n",
              "    .dataframe thead th {\n",
              "        text-align: right;\n",
              "    }\n",
              "</style>\n",
              "<table border=\"1\" class=\"dataframe\">\n",
              "  <thead>\n",
              "    <tr style=\"text-align: right;\">\n",
              "      <th></th>\n",
              "      <th>Precip</th>\n",
              "      <th>MaxTemp</th>\n",
              "      <th>MinTemp</th>\n",
              "      <th>MeanTemp</th>\n",
              "      <th>Snowfall</th>\n",
              "      <th>PoorWeather</th>\n",
              "    </tr>\n",
              "  </thead>\n",
              "  <tbody>\n",
              "    <tr>\n",
              "      <th>0</th>\n",
              "      <td>1.016</td>\n",
              "      <td>25.555556</td>\n",
              "      <td>22.222222</td>\n",
              "      <td>23.888889</td>\n",
              "      <td>0.0</td>\n",
              "      <td>0.0</td>\n",
              "    </tr>\n",
              "    <tr>\n",
              "      <th>1</th>\n",
              "      <td>0.000</td>\n",
              "      <td>28.888889</td>\n",
              "      <td>21.666667</td>\n",
              "      <td>25.555556</td>\n",
              "      <td>0.0</td>\n",
              "      <td>0.0</td>\n",
              "    </tr>\n",
              "    <tr>\n",
              "      <th>2</th>\n",
              "      <td>2.540</td>\n",
              "      <td>26.111111</td>\n",
              "      <td>22.222222</td>\n",
              "      <td>24.444444</td>\n",
              "      <td>0.0</td>\n",
              "      <td>0.0</td>\n",
              "    </tr>\n",
              "    <tr>\n",
              "      <th>3</th>\n",
              "      <td>2.540</td>\n",
              "      <td>26.666667</td>\n",
              "      <td>22.222222</td>\n",
              "      <td>24.444444</td>\n",
              "      <td>0.0</td>\n",
              "      <td>0.0</td>\n",
              "    </tr>\n",
              "    <tr>\n",
              "      <th>4</th>\n",
              "      <td>0.000</td>\n",
              "      <td>26.666667</td>\n",
              "      <td>21.666667</td>\n",
              "      <td>24.444444</td>\n",
              "      <td>0.0</td>\n",
              "      <td>0.0</td>\n",
              "    </tr>\n",
              "  </tbody>\n",
              "</table>\n",
              "</div>\n",
              "      <button class=\"colab-df-convert\" onclick=\"convertToInteractive('df-a1e8291f-19b1-4c29-a99b-a98dbfc83055')\"\n",
              "              title=\"Convert this dataframe to an interactive table.\"\n",
              "              style=\"display:none;\">\n",
              "        \n",
              "  <svg xmlns=\"http://www.w3.org/2000/svg\" height=\"24px\"viewBox=\"0 0 24 24\"\n",
              "       width=\"24px\">\n",
              "    <path d=\"M0 0h24v24H0V0z\" fill=\"none\"/>\n",
              "    <path d=\"M18.56 5.44l.94 2.06.94-2.06 2.06-.94-2.06-.94-.94-2.06-.94 2.06-2.06.94zm-11 1L8.5 8.5l.94-2.06 2.06-.94-2.06-.94L8.5 2.5l-.94 2.06-2.06.94zm10 10l.94 2.06.94-2.06 2.06-.94-2.06-.94-.94-2.06-.94 2.06-2.06.94z\"/><path d=\"M17.41 7.96l-1.37-1.37c-.4-.4-.92-.59-1.43-.59-.52 0-1.04.2-1.43.59L10.3 9.45l-7.72 7.72c-.78.78-.78 2.05 0 2.83L4 21.41c.39.39.9.59 1.41.59.51 0 1.02-.2 1.41-.59l7.78-7.78 2.81-2.81c.8-.78.8-2.07 0-2.86zM5.41 20L4 18.59l7.72-7.72 1.47 1.35L5.41 20z\"/>\n",
              "  </svg>\n",
              "      </button>\n",
              "      \n",
              "  <style>\n",
              "    .colab-df-container {\n",
              "      display:flex;\n",
              "      flex-wrap:wrap;\n",
              "      gap: 12px;\n",
              "    }\n",
              "\n",
              "    .colab-df-convert {\n",
              "      background-color: #E8F0FE;\n",
              "      border: none;\n",
              "      border-radius: 50%;\n",
              "      cursor: pointer;\n",
              "      display: none;\n",
              "      fill: #1967D2;\n",
              "      height: 32px;\n",
              "      padding: 0 0 0 0;\n",
              "      width: 32px;\n",
              "    }\n",
              "\n",
              "    .colab-df-convert:hover {\n",
              "      background-color: #E2EBFA;\n",
              "      box-shadow: 0px 1px 2px rgba(60, 64, 67, 0.3), 0px 1px 3px 1px rgba(60, 64, 67, 0.15);\n",
              "      fill: #174EA6;\n",
              "    }\n",
              "\n",
              "    [theme=dark] .colab-df-convert {\n",
              "      background-color: #3B4455;\n",
              "      fill: #D2E3FC;\n",
              "    }\n",
              "\n",
              "    [theme=dark] .colab-df-convert:hover {\n",
              "      background-color: #434B5C;\n",
              "      box-shadow: 0px 1px 3px 1px rgba(0, 0, 0, 0.15);\n",
              "      filter: drop-shadow(0px 1px 2px rgba(0, 0, 0, 0.3));\n",
              "      fill: #FFFFFF;\n",
              "    }\n",
              "  </style>\n",
              "\n",
              "      <script>\n",
              "        const buttonEl =\n",
              "          document.querySelector('#df-a1e8291f-19b1-4c29-a99b-a98dbfc83055 button.colab-df-convert');\n",
              "        buttonEl.style.display =\n",
              "          google.colab.kernel.accessAllowed ? 'block' : 'none';\n",
              "\n",
              "        async function convertToInteractive(key) {\n",
              "          const element = document.querySelector('#df-a1e8291f-19b1-4c29-a99b-a98dbfc83055');\n",
              "          const dataTable =\n",
              "            await google.colab.kernel.invokeFunction('convertToInteractive',\n",
              "                                                     [key], {});\n",
              "          if (!dataTable) return;\n",
              "\n",
              "          const docLinkHtml = 'Like what you see? Visit the ' +\n",
              "            '<a target=\"_blank\" href=https://colab.research.google.com/notebooks/data_table.ipynb>data table notebook</a>'\n",
              "            + ' to learn more about interactive tables.';\n",
              "          element.innerHTML = '';\n",
              "          dataTable['output_type'] = 'display_data';\n",
              "          await google.colab.output.renderOutput(dataTable, element);\n",
              "          const docLink = document.createElement('div');\n",
              "          docLink.innerHTML = docLinkHtml;\n",
              "          element.appendChild(docLink);\n",
              "        }\n",
              "      </script>\n",
              "    </div>\n",
              "  </div>\n",
              "  "
            ],
            "text/plain": [
              "   Precip    MaxTemp    MinTemp   MeanTemp  Snowfall  PoorWeather\n",
              "0   1.016  25.555556  22.222222  23.888889       0.0          0.0\n",
              "1   0.000  28.888889  21.666667  25.555556       0.0          0.0\n",
              "2   2.540  26.111111  22.222222  24.444444       0.0          0.0\n",
              "3   2.540  26.666667  22.222222  24.444444       0.0          0.0\n",
              "4   0.000  26.666667  21.666667  24.444444       0.0          0.0"
            ]
          },
          "metadata": {},
          "execution_count": 12
        }
      ]
    },
    {
      "cell_type": "code",
      "source": [
        "print(\"max MaxTemp: \",dataframe['MaxTemp'].max())\n",
        "print(\"min MaxTemp: \",dataframe['MaxTemp'].min())\n",
        "print(\"max MinTemp: \",dataframe['MinTemp'].max())\n",
        "print(\"min MinTemp: \",dataframe['MinTemp'].min())\n",
        "\n",
        "fig_dims = (10, 20)\n",
        "fig, axs = plt.subplots(nrows=6,figsize=fig_dims)\n",
        "\n",
        "plt.subplots_adjust(hspace = 0.3)\n",
        "\n",
        "\n",
        "pl1 = sns.distplot(dataframe.Precip,ax=axs[0],kde=False);\n",
        "pl1.set(xlabel = \"Precpitation range\")\n",
        "\n",
        "pl2 = sns.distplot(dataframe.MaxTemp,ax=axs[1],kde=False);\n",
        "pl2.set(xlabel = \"MaxTemp range\")\n",
        "\n",
        "pl3 = sns.distplot(dataframe.MinTemp,ax=axs[2],kde=False);\n",
        "pl3.set(xlabel = \"MinTemp range\")\n",
        "\n",
        "pl4 = sns.distplot(dataframe.MeanTemp,ax=axs[3],kde=False);\n",
        "pl4.set(xlabel = \"MeanTemp range\")\n",
        "\n",
        "pl5 = sns.distplot(dataframe.Snowfall,ax=axs[4],kde=False);\n",
        "pl5.set(xlabel = \"Snowfall range\")\n",
        "\n",
        "pl6 = sns.distplot(dataframe.PoorWeather,ax=axs[5],kde=False);\n",
        "pl6.set(xlabel = \"PoorWeather range\")\n"
      ],
      "metadata": {
        "colab": {
          "base_uri": "https://localhost:8080/",
          "height": 1000
        },
        "id": "KiixIyzsSrGx",
        "outputId": "ce0abfc3-e875-4edf-e42a-6eab7d8c8d9d"
      },
      "execution_count": null,
      "outputs": [
        {
          "output_type": "stream",
          "name": "stdout",
          "text": [
            "max MaxTemp:  50.0\n",
            "min MaxTemp:  -33.33333333\n",
            "max MinTemp:  34.44444444\n",
            "min MinTemp:  -38.33333333\n"
          ]
        },
        {
          "output_type": "stream",
          "name": "stderr",
          "text": [
            "/usr/local/lib/python3.7/dist-packages/seaborn/distributions.py:2619: FutureWarning: `distplot` is a deprecated function and will be removed in a future version. Please adapt your code to use either `displot` (a figure-level function with similar flexibility) or `histplot` (an axes-level function for histograms).\n",
            "  warnings.warn(msg, FutureWarning)\n"
          ]
        },
        {
          "output_type": "execute_result",
          "data": {
            "text/plain": [
              "[Text(0.5, 0, 'PoorWeather range')]"
            ]
          },
          "metadata": {},
          "execution_count": 13
        },
        {
          "output_type": "display_data",
          "data": {
            "image/png": "[encoded data removed]",
            "text/plain": [
              "<Figure size 720x1440 with 6 Axes>"
            ]
          },
          "metadata": {
            "needs_background": "light"
          }
        }
      ]
    },
    {
      "cell_type": "code",
      "source": [
        "# Convert from Pandas dataframe to numpy arrays\n",
        "inputs = dataframe.drop(TARGET_COLUMN, axis=1).values\n",
        "targets = dataframe[[TARGET_COLUMN]].values\n",
        "inputs.shape, targets.shape"
      ],
      "metadata": {
        "colab": {
          "base_uri": "https://localhost:8080/"
        },
        "id": "ZPin3PLUUBJ2",
        "outputId": "a3336f38-b6e2-43f6-ac70-8ac89b341572"
      },
      "execution_count": null,
      "outputs": [
        {
          "output_type": "execute_result",
          "data": {
            "text/plain": [
              "((119040, 5), (119040, 1))"
            ]
          },
          "metadata": {},
          "execution_count": 14
        }
      ]
    },
    {
      "cell_type": "code",
      "source": [
        "inputs.dtype, targets.dtype"
      ],
      "metadata": {
        "colab": {
          "base_uri": "https://localhost:8080/"
        },
        "id": "u4Y8iBmJLa-H",
        "outputId": "c063b442-c323-42ca-b3b8-80f8b116dd59"
      },
      "execution_count": null,
      "outputs": [
        {
          "output_type": "execute_result",
          "data": {
            "text/plain": [
              "(dtype('float64'), dtype('float64'))"
            ]
          },
          "metadata": {},
          "execution_count": 15
        }
      ]
    },
    {
      "cell_type": "code",
      "source": [
        "# Hyperparameters\n",
        "batch_size=5120\n",
        "\n",
        "# Convert to PyTorch dataset\n",
        "dataset = TensorDataset(torch.tensor(inputs, dtype=torch.float32), torch.tensor(targets, dtype=torch.float32))\n",
        "\n",
        "num_rows = dataframe.shape[0]\n",
        "\n",
        "val_percent = 0.1 # between 0.1 and 0.2\n",
        "\n",
        "val_size = int(num_rows * val_percent)\n",
        "train_size = num_rows - val_size\n",
        "\n",
        "train_ds, val_ds = random_split(dataset, (train_size,val_size))\n",
        "\n",
        "train_loader = DataLoader(train_ds, batch_size, shuffle=True)\n",
        "val_loader = DataLoader(val_ds, batch_size*2)"
      ],
      "metadata": {
        "id": "5bbg_5U_UL6P"
      },
      "execution_count": null,
      "outputs": []
    },
    {
      "cell_type": "code",
      "source": [
        "class WW2TempPreidictionModel(nn.Module):\n",
        "    def __init__(self):\n",
        "        super().__init__()\n",
        "        self.linear = nn.Linear(input_size, output_size)\n",
        "        \n",
        "    def forward(self, xb):\n",
        "        out = self.linear(xb)\n",
        "        return out\n",
        "    \n",
        "    def training_step(self, batch):\n",
        "        inputs, targets = batch \n",
        "        out = self(inputs)                 # Generate predictions\n",
        "        loss = F.l1_loss(out, targets)    # Calculate loss\n",
        "        return loss\n",
        "    \n",
        "    def validation_step(self, batch):\n",
        "        inputs, targets = batch \n",
        "        out = self(inputs)                 # Generate predictions\n",
        "        loss = F.l1_loss(out, targets)    # Calculate loss\n",
        "        return {'val_loss': loss.detach()}\n",
        "        \n",
        "    def validation_epoch_end(self, outputs):\n",
        "        batch_losses = [x['val_loss'] for x in outputs]\n",
        "        epoch_loss = torch.stack(batch_losses).mean()   # Combine losses\n",
        "        return {'val_loss': epoch_loss.item()}\n",
        "    \n",
        "    def epoch_end(self, epoch, result,num_epochs):\n",
        "        if (epoch+1) % 10 == 0 or epoch == num_epochs-1:\n",
        "            print(\"Epoch [{}], val_loss: {:.4f}\".format(epoch, result['val_loss']))\n",
        "   \n",
        "    "
      ],
      "metadata": {
        "id": "h_xGfFrfUYGh"
      },
      "execution_count": null,
      "outputs": []
    },
    {
      "cell_type": "code",
      "source": [
        "input_size = inputs.shape[1]\n",
        "output_size = targets.shape[1]\n",
        "input_size, output_size"
      ],
      "metadata": {
        "colab": {
          "base_uri": "https://localhost:8080/"
        },
        "id": "bbzLR7JRUfHL",
        "outputId": "2d32e41d-f99b-4459-ddd5-60ac438e851c"
      },
      "execution_count": null,
      "outputs": [
        {
          "output_type": "execute_result",
          "data": {
            "text/plain": [
              "(5, 1)"
            ]
          },
          "metadata": {},
          "execution_count": 18
        }
      ]
    },
    {
      "cell_type": "code",
      "source": [
        "def evaluate(model, val_loader):\n",
        "    outputs = [model.validation_step(batch) for batch in val_loader]\n",
        "    return model.validation_epoch_end(outputs)\n",
        "\n",
        "def fit(epochs, lr, model, train_loader, val_loader, opt_func=torch.optim.SGD):\n",
        "    history = []\n",
        "    optimizer = opt_func(model.parameters(), lr)\n",
        "    for epoch in range(epochs):\n",
        "        # Training Phase \n",
        "        for batch in train_loader:\n",
        "            loss = model.training_step(batch)\n",
        "            #print(\"Params after calcuating loss: \",list(model.parameters()))\n",
        "            loss.backward()\n",
        "            #print(\"Params after gradient step: \",list(model.parameters()))\n",
        "            optimizer.step()\n",
        "            #print(\"Params after updating grads: \",list(model.parameters()))\n",
        "            optimizer.zero_grad()\n",
        "            #print(\"Params after zero grad: \",list(model.parameters()))\n",
        "        # Validation phase\n",
        "        result = evaluate(model, val_loader)\n",
        "        model.epoch_end(epoch, result,epochs)\n",
        "        history.append(result)\n",
        "    return history"
      ],
      "metadata": {
        "id": "oUsanny-UfLN"
      },
      "execution_count": null,
      "outputs": []
    },
    {
      "cell_type": "code",
      "source": [
        "list(train_loader)"
      ],
      "metadata": {
        "colab": {
          "base_uri": "https://localhost:8080/"
        },
        "id": "QqL_q_leMDZO",
        "outputId": "3b99d449-4eeb-4703-b0be-3e243a34c87c"
      },
      "execution_count": null,
      "outputs": [
        {
          "output_type": "execute_result",
          "data": {
            "text/plain": [
              "[[tensor([[19.8120, 23.3333, 27.2222,  0.0000,  0.0000],\n",
              "          [ 0.0000, 17.7778, 27.7778,  0.0000,  0.0000],\n",
              "          [ 3.3020, 23.8889, 27.2222,  0.0000,  1.0000],\n",
              "          ...,\n",
              "          [ 0.2540, 20.5556, 23.8889,  0.0000,  1.0000],\n",
              "          [ 0.0000, 19.4444, 24.4444,  0.0000,  0.0000],\n",
              "          [ 0.0000, 17.2222, 20.5556,  0.0000,  0.0000]]), tensor([[31.1111],\n",
              "          [37.7778],\n",
              "          [30.5556],\n",
              "          ...,\n",
              "          [27.2222],\n",
              "          [30.0000],\n",
              "          [23.8889]])], [tensor([[ 0.0000, 25.0000, 27.2222,  0.0000,  0.0000],\n",
              "          [34.5440, 24.4444, 28.8889,  0.0000,  0.0000],\n",
              "          [19.3040, 16.6667, 20.5556,  0.0000,  0.0000],\n",
              "          ...,\n",
              "          [ 0.0000, 22.7778, 25.5556,  0.0000,  0.0000],\n",
              "          [ 0.0000,  6.6667, 12.2222,  0.0000,  0.0000],\n",
              "          [ 0.5080, 12.7778, 18.8889,  0.0000,  1.0000]]), tensor([[29.4444],\n",
              "          [33.8889],\n",
              "          [24.4444],\n",
              "          ...,\n",
              "          [28.3333],\n",
              "          [18.3333],\n",
              "          [24.4444]])], [tensor([[ 0.0000, -2.7778,  0.0000,  5.0800,  0.0000],\n",
              "          [64.0080, 22.2222, 26.6667,  0.0000,  0.0000],\n",
              "          [ 0.0000, 18.3333, 25.0000,  0.0000,  0.0000],\n",
              "          ...,\n",
              "          [11.4300, 22.7778, 25.5556,  0.0000,  1.0000],\n",
              "          [ 0.0000, 21.6667, 27.7778,  0.0000,  0.0000],\n",
              "          [ 0.0000, 17.7778, 23.3333,  0.0000,  0.0000]]), tensor([[ 2.7778],\n",
              "          [31.1111],\n",
              "          [31.1111],\n",
              "          ...,\n",
              "          [28.3333],\n",
              "          [33.3333],\n",
              "          [29.4444]])], [tensor([[ 0.0000, 23.3333, 25.0000,  0.0000,  1.0000],\n",
              "          [ 0.0000, 15.0000, 20.0000,  0.0000,  0.0000],\n",
              "          [ 0.0000, 21.6667, 30.0000,  0.0000,  0.0000],\n",
              "          ...,\n",
              "          [ 0.5080,  8.3333, 12.2222,  0.0000,  0.0000],\n",
              "          [ 0.0000, 22.7778, 26.6667,  0.0000,  0.0000],\n",
              "          [34.7980, 22.7778, 25.5556,  0.0000,  1.0000]]), tensor([[26.6667],\n",
              "          [24.4444],\n",
              "          [38.8889],\n",
              "          ...,\n",
              "          [16.6667],\n",
              "          [30.0000],\n",
              "          [28.3333]])], [tensor([[ 0.0000,  5.5556, 10.0000,  0.0000,  1.0000],\n",
              "          [96.7740, 23.3333, 25.5556,  0.0000,  1.0000],\n",
              "          [ 0.0000, 24.4444, 27.7778,  0.0000,  0.0000],\n",
              "          ...,\n",
              "          [ 0.0000,  1.6667,  7.7778,  0.0000,  0.0000],\n",
              "          [ 0.0000, 23.3333, 27.7778,  0.0000,  1.0000],\n",
              "          [ 0.7620, 21.6667, 26.6667,  0.0000,  1.0000]]), tensor([[13.8889],\n",
              "          [27.7778],\n",
              "          [31.1111],\n",
              "          ...,\n",
              "          [13.8889],\n",
              "          [32.2222],\n",
              "          [32.2222]])], [tensor([[0.0000e+00, 1.9444e+01, 2.6667e+01, 0.0000e+00, 0.0000e+00],\n",
              "          [0.0000e+00, 2.2222e+01, 2.6667e+01, 0.0000e+00, 1.0000e+00],\n",
              "          [0.0000e+00, 8.3333e+00, 1.5556e+01, 0.0000e+00, 0.0000e+00],\n",
              "          ...,\n",
              "          [0.0000e+00, 2.1111e+01, 2.6667e+01, 0.0000e+00, 1.0000e+00],\n",
              "          [0.0000e+00, 1.1667e+01, 1.8889e+01, 0.0000e+00, 1.0000e+09],\n",
              "          [1.9304e+01, 8.8889e+00, 1.2222e+01, 0.0000e+00, 1.0000e+00]]),\n",
              "  tensor([[34.4444],\n",
              "          [31.6667],\n",
              "          [22.2222],\n",
              "          ...,\n",
              "          [31.6667],\n",
              "          [26.1111],\n",
              "          [15.5556]])], [tensor([[ 0.0000, 25.0000, 31.1111,  0.0000,  1.0000],\n",
              "          [ 0.0000, 17.7778, 21.1111,  0.0000,  0.0000],\n",
              "          [ 5.8420, 22.2222, 26.6667,  0.0000,  1.0000],\n",
              "          ...,\n",
              "          [ 0.0000, 21.1111, 25.5556,  0.0000,  0.0000],\n",
              "          [ 0.0000, 21.6667, 25.5556,  0.0000,  0.0000],\n",
              "          [ 0.0000, 25.0000, 28.3333,  0.0000,  0.0000]]), tensor([[37.7778],\n",
              "          [25.0000],\n",
              "          [31.1111],\n",
              "          ...,\n",
              "          [30.0000],\n",
              "          [29.4444],\n",
              "          [31.1111]])], [tensor([[ 0.0000, 21.6667, 26.6667,  0.0000,  1.0000],\n",
              "          [ 0.0000, 21.6667, 26.6667,  0.0000,  0.0000],\n",
              "          [ 2.0320, 22.7778, 26.6667,  0.0000,  0.0000],\n",
              "          ...,\n",
              "          [ 8.1280, 13.8889, 16.1111,  0.0000,  0.0000],\n",
              "          [ 0.0000, 10.0000, 14.4444,  0.0000,  0.0000],\n",
              "          [ 0.2540, 23.8889, 26.6667,  0.0000,  1.0000]]), tensor([[32.2222],\n",
              "          [32.2222],\n",
              "          [30.5556],\n",
              "          ...,\n",
              "          [19.4444],\n",
              "          [18.8889],\n",
              "          [30.0000]])], [tensor([[ 0.0000,  7.7778, 11.1111,  0.0000,  0.0000],\n",
              "          [ 1.2700,  7.7778, 11.1111,  0.0000,  0.0000],\n",
              "          [ 0.0000, 16.1111, 22.2222,  0.0000,  0.0000],\n",
              "          ...,\n",
              "          [ 7.8740, -2.7778, -1.1111, 40.6400,  1.0000],\n",
              "          [ 0.0000, 27.2222, 31.6667,  0.0000,  0.0000],\n",
              "          [20.0660, 22.7778, 26.6667,  0.0000,  1.0000]]), tensor([[15.0000],\n",
              "          [15.0000],\n",
              "          [27.7778],\n",
              "          ...,\n",
              "          [ 1.1111],\n",
              "          [36.1111],\n",
              "          [30.0000]])], [tensor([[ 0.0000, 20.0000, 25.5556,  0.0000,  0.0000],\n",
              "          [ 2.7940, -5.0000, -2.2222,  5.0800,  1.0000],\n",
              "          [ 3.0480, 23.3333, 26.6667,  0.0000,  0.0000],\n",
              "          ...,\n",
              "          [ 0.0000, 11.6667, 18.8889,  0.0000,  0.0000],\n",
              "          [ 0.0000, 22.7778, 26.6667,  0.0000,  0.0000],\n",
              "          [ 0.0000, 19.4444, 25.5556,  0.0000,  0.0000]]), tensor([[31.1111],\n",
              "          [ 0.0000],\n",
              "          [30.0000],\n",
              "          ...,\n",
              "          [25.5556],\n",
              "          [30.5556],\n",
              "          [32.2222]])], [tensor([[ 0.7620, 23.3333, 26.6667,  0.0000,  1.0000],\n",
              "          [ 1.5240, 23.3333, 27.7778,  0.0000,  0.0000],\n",
              "          [ 0.0000, 24.4444, 28.8889,  0.0000,  0.0000],\n",
              "          ...,\n",
              "          [ 0.0000,  7.7778, 11.6667,  0.0000,  1.0000],\n",
              "          [ 0.0000, 20.5556, 21.1111,  0.0000,  0.0000],\n",
              "          [ 1.7780, 21.6667, 25.5556,  0.0000,  1.0000]]), tensor([[30.5556],\n",
              "          [31.6667],\n",
              "          [32.7778],\n",
              "          ...,\n",
              "          [15.5556],\n",
              "          [22.2222],\n",
              "          [30.0000]])], [tensor([[ 0.0000, 25.0000, 31.1111,  0.0000,  0.0000],\n",
              "          [ 0.0000,  9.4444, 15.5556,  0.0000,  0.0000],\n",
              "          [ 0.0000, 22.7778, 27.7778,  0.0000,  0.0000],\n",
              "          ...,\n",
              "          [ 2.7940, 22.7778, 27.2222,  0.0000,  0.0000],\n",
              "          [ 0.0000, 23.3333, 26.6667,  0.0000,  0.0000],\n",
              "          [ 5.3340, 26.1111, 28.8889,  0.0000,  1.0000]]), tensor([[37.7778],\n",
              "          [22.2222],\n",
              "          [33.3333],\n",
              "          ...,\n",
              "          [31.6667],\n",
              "          [29.4444],\n",
              "          [31.1111]])], [tensor([[   0.0000,   19.4444,   24.4444,    0.0000,    1.0000],\n",
              "          [   0.0000,    5.5556,   10.0000,    0.0000,    0.0000],\n",
              "          [   0.0000,   23.8889,   28.8889,    0.0000,    0.0000],\n",
              "          ...,\n",
              "          [   0.0000,   25.0000,   27.7778,    0.0000,    0.0000],\n",
              "          [   0.0000,   22.2222,   25.5556,    0.0000, 1000.0000],\n",
              "          [   0.0000,   19.4444,   24.4444,    0.0000,    0.0000]]),\n",
              "  tensor([[30.0000],\n",
              "          [15.0000],\n",
              "          [34.4444],\n",
              "          ...,\n",
              "          [30.5556],\n",
              "          [28.8889],\n",
              "          [29.4444]])], [tensor([[ 0.5080, 22.7778, 25.5556,  0.0000,  1.0000],\n",
              "          [ 0.0000, 15.5556, 23.8889,  0.0000,  0.0000],\n",
              "          [33.2740, 22.2222, 24.4444,  0.0000,  0.0000],\n",
              "          ...,\n",
              "          [ 0.0000, 25.0000, 28.3333,  0.0000,  0.0000],\n",
              "          [ 0.0000,  4.4444,  6.1111,  0.0000,  0.0000],\n",
              "          [13.2080, 21.1111, 24.4444,  0.0000,  1.0000]]), tensor([[27.7778],\n",
              "          [33.3333],\n",
              "          [27.2222],\n",
              "          ...,\n",
              "          [31.6667],\n",
              "          [ 7.7778],\n",
              "          [27.7778]])], [tensor([[24.1300, 22.7778, 25.0000,  0.0000,  0.0000],\n",
              "          [ 0.2540, 21.6667, 27.7778,  0.0000,  1.0000],\n",
              "          [ 0.0000, 22.2222, 28.8889,  0.0000,  0.0000],\n",
              "          ...,\n",
              "          [ 0.0000,  3.8889,  6.6667,  0.0000,  1.0000],\n",
              "          [ 0.0000, 20.5556, 26.6667,  0.0000,  0.0000],\n",
              "          [ 2.7940,  5.5556, 10.0000,  0.0000,  1.0000]]), tensor([[27.2222],\n",
              "          [33.8889],\n",
              "          [35.5556],\n",
              "          ...,\n",
              "          [10.0000],\n",
              "          [32.2222],\n",
              "          [13.8889]])], [tensor([[ 0.0000, 13.8889, 21.6667,  0.0000,  0.0000],\n",
              "          [ 3.3020, 21.6667, 25.5556,  0.0000,  1.0000],\n",
              "          [ 0.0000,  2.2222,  5.5556,  0.0000,  0.0000],\n",
              "          ...,\n",
              "          [ 0.0000, 20.5556, 25.5556,  0.0000,  0.0000],\n",
              "          [ 8.8900, 23.8889, 26.6667,  0.0000,  0.0000],\n",
              "          [ 2.0320, 21.1111, 26.6667,  0.0000,  0.0000]]), tensor([[29.4444],\n",
              "          [30.0000],\n",
              "          [ 8.8889],\n",
              "          ...,\n",
              "          [31.1111],\n",
              "          [29.4444],\n",
              "          [32.7778]])], [tensor([[26.9240, 22.2222, 27.7778,  0.0000,  1.0000],\n",
              "          [ 0.0000, 24.4444, 26.6667,  0.0000,  0.0000],\n",
              "          [ 9.6520, 23.3333, 27.7778,  0.0000,  0.0000],\n",
              "          ...,\n",
              "          [ 0.0000, 18.3333, 23.8889,  0.0000,  0.0000],\n",
              "          [ 0.0000, 17.7778, 23.3333,  0.0000,  0.0000],\n",
              "          [20.8280, 23.3333, 26.6667,  0.0000,  1.0000]]), tensor([[33.8889],\n",
              "          [28.8889],\n",
              "          [31.6667],\n",
              "          ...,\n",
              "          [29.4444],\n",
              "          [28.3333],\n",
              "          [29.4444]])], [tensor([[ 0.0000, 26.1111, 28.8889,  0.0000,  1.0000],\n",
              "          [ 0.0000, -9.4444,  0.0000,  5.0800,  0.0000],\n",
              "          [ 2.5400, 23.3333, 27.2222,  0.0000,  0.0000],\n",
              "          ...,\n",
              "          [ 0.7620, 18.8889, 21.6667,  0.0000,  0.0000],\n",
              "          [ 0.0000, 21.1111, 27.2222,  0.0000,  0.0000],\n",
              "          [ 2.5400, 18.8889, 24.4444,  0.0000,  0.0000]]), tensor([[31.1111],\n",
              "          [ 8.8889],\n",
              "          [31.1111],\n",
              "          ...,\n",
              "          [24.4444],\n",
              "          [33.3333],\n",
              "          [29.4444]])], [tensor([[ 0.0000, 10.0000, 18.8889,  0.0000,  0.0000],\n",
              "          [ 0.0000, 20.5556, 23.8889,  0.0000,  0.0000],\n",
              "          [ 1.0160,  4.4444,  6.6667,  0.0000,  1.0000],\n",
              "          ...,\n",
              "          [ 0.0000,  4.4444, 13.8889,  0.0000,  1.0000],\n",
              "          [ 0.0000, 19.4444, 27.7778,  0.0000,  0.0000],\n",
              "          [ 0.5080, 23.3333, 26.1111,  0.0000,  0.0000]]), tensor([[27.7778],\n",
              "          [27.2222],\n",
              "          [ 9.4444],\n",
              "          ...,\n",
              "          [23.3333],\n",
              "          [36.1111],\n",
              "          [28.8889]])], [tensor([[ 0.0000,  6.1111, 10.0000,  0.0000,  0.0000],\n",
              "          [ 2.5400, 11.6667, 13.3333,  0.0000,  0.0000],\n",
              "          [ 0.0000, 21.1111, 27.2222,  0.0000,  0.0000],\n",
              "          ...,\n",
              "          [13.7160, 22.2222, 26.6667,  0.0000,  1.0000],\n",
              "          [ 0.0000, 22.7778, 26.6667,  0.0000,  1.0000],\n",
              "          [ 0.2540, 24.4444, 26.6667,  0.0000,  0.0000]]), tensor([[13.3333],\n",
              "          [14.4444],\n",
              "          [33.3333],\n",
              "          ...,\n",
              "          [31.1111],\n",
              "          [30.5556],\n",
              "          [29.4444]])], [tensor([[ 0.0000, 24.4444, 27.7778,  0.0000,  0.0000],\n",
              "          [ 0.0000, 13.3333, 18.8889,  0.0000,  0.0000],\n",
              "          [ 0.0000, 12.2222, 13.8889,  0.0000,  1.0000],\n",
              "          ...,\n",
              "          [ 0.0000, 25.0000, 28.8889,  0.0000,  0.0000],\n",
              "          [17.5260, 26.6667, 29.4444,  0.0000,  0.0000],\n",
              "          [ 0.0000, 23.8889, 25.5556,  0.0000,  0.0000]]), tensor([[31.1111],\n",
              "          [24.4444],\n",
              "          [15.5556],\n",
              "          ...,\n",
              "          [32.2222],\n",
              "          [32.2222],\n",
              "          [26.6667]])]]"
            ]
          },
          "metadata": {},
          "execution_count": 20
        }
      ]
    },
    {
      "cell_type": "code",
      "source": [
        "model = WW2TempPreidictionModel()\n",
        "print(\"Initial loss\",evaluate(model, val_loader))\n",
        "learning_rate=1e-10\n",
        "history = fit(100,learning_rate, model, train_loader, val_loader)"
      ],
      "metadata": {
        "colab": {
          "base_uri": "https://localhost:8080/"
        },
        "id": "2WT7kJAfUx1I",
        "outputId": "2383740d-0d23-4d44-9c3c-d25c22bb5bcb"
      },
      "execution_count": null,
      "outputs": [
        {
          "output_type": "stream",
          "name": "stdout",
          "text": [
            "Initial loss {'val_loss': 83608.96875}\n",
            "Epoch [9], val_loss: 76183.6953\n",
            "Epoch [19], val_loss: 68750.9375\n",
            "Epoch [29], val_loss: 61325.6445\n",
            "Epoch [39], val_loss: 53895.7500\n",
            "Epoch [49], val_loss: 46469.1133\n",
            "Epoch [59], val_loss: 39039.2070\n",
            "Epoch [69], val_loss: 31611.6133\n",
            "Epoch [79], val_loss: 24184.4863\n",
            "Epoch [89], val_loss: 16760.1582\n",
            "Epoch [99], val_loss: 9328.3691\n"
          ]
        }
      ]
    },
    {
      "cell_type": "code",
      "source": [
        "plot2 = [x['val_loss'] for x in history]\n",
        "plt.plot(plot2)"
      ],
      "metadata": {
        "colab": {
          "base_uri": "https://localhost:8080/",
          "height": 283
        },
        "id": "zNMDgCsQWVLB",
        "outputId": "6447181f-0c19-46be-9bcd-eef789ab7f77"
      },
      "execution_count": null,
      "outputs": [
        {
          "output_type": "execute_result",
          "data": {
            "text/plain": [
              "[<matplotlib.lines.Line2D at 0x7faec16e3d10>]"
            ]
          },
          "metadata": {},
          "execution_count": 22
        },
        {
          "output_type": "display_data",
          "data": {
            "image/png": "[encoded data removed]",
            "text/plain": [
              "<Figure size 432x288 with 1 Axes>"
            ]
          },
          "metadata": {
            "needs_background": "light"
          }
        }
      ]
    },
    {
      "cell_type": "code",
      "source": [
        "losses = [r['val_loss'] for r in  history]\n",
        "plt.plot(losses, '-x')\n",
        "plt.xlabel('epoch')\n",
        "plt.ylabel('val_loss')\n",
        "plt.title('val_loss vs. epochs');"
      ],
      "metadata": {
        "id": "7S0VDdQeKUjl",
        "colab": {
          "base_uri": "https://localhost:8080/",
          "height": 295
        },
        "outputId": "ba5b9874-f704-4a8d-e226-1d68da6699ee"
      },
      "execution_count": null,
      "outputs": [
        {
          "output_type": "display_data",
          "data": {
            "image/png": "[encoded data removed]",
            "text/plain": [
              "<Figure size 432x288 with 1 Axes>"
            ]
          },
          "metadata": {
            "needs_background": "light"
          }
        }
      ]
    },
    {
      "cell_type": "code",
      "source": [
        "def predict_single(x, model):\n",
        "    xb = x.unsqueeze(0)\n",
        "    return model(x).item()"
      ],
      "metadata": {
        "id": "fugdCCL7MUCB"
      },
      "execution_count": null,
      "outputs": []
    },
    {
      "cell_type": "code",
      "source": [
        "x, target = val_ds[10]\n",
        "pred = predict_single(x, model)\n",
        "print(\"Input: \", x)\n",
        "print(\"Target: \", target.item())\n",
        "print(\"Prediction:\", pred)"
      ],
      "metadata": {
        "colab": {
          "base_uri": "https://localhost:8080/"
        },
        "id": "7QigMHM_MWoy",
        "outputId": "be1e4f23-1345-47b0-eb5e-b29bfb573405"
      },
      "execution_count": null,
      "outputs": [
        {
          "output_type": "stream",
          "name": "stdout",
          "text": [
            "Input:  tensor([ 0.0000, 20.0000, 22.2222,  0.0000,  0.0000])\n",
            "Target:  25.0\n",
            "Prediction: -1.561460018157959\n"
          ]
        }
      ]
    },
    {
      "cell_type": "code",
      "source": [
        "torch.save(model.state_dict(), 'WW2-weather-linear.pth')"
      ],
      "metadata": {
        "id": "-whY6DHOX5Ku"
      },
      "execution_count": null,
      "outputs": []
    }
  ]
}